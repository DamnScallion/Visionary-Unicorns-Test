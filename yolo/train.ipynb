{
 "cells": [
  {
   "cell_type": "code",
   "execution_count": 2,
   "id": "47493c40",
   "metadata": {},
   "outputs": [],
   "source": [
    "import cv2\n",
    "import numpy as np\n",
    "import matplotlib.pyplot as plt\n",
    "from ultralytics import YOLO\n",
    "import pandas as pd\n",
    "import os\n",
    "import shutil"
   ]
  },
  {
   "cell_type": "markdown",
   "id": "000962d1",
   "metadata": {},
   "source": [
    "##### Copy images to different directory for yolo training"
   ]
  },
  {
   "cell_type": "code",
   "execution_count": 3,
   "id": "b1604337",
   "metadata": {},
   "outputs": [],
   "source": [
    "def yolo_dataset(src_dir, dest_dir):\n",
    "    if not os.path.exists(dest_dir):\n",
    "        os.makedirs(dest_dir)\n",
    "    image_names = sorted(os.listdir(src_dir))\n",
    "    for image_name in image_names:\n",
    "        src_path = os.path.join(src_dir, image_name)\n",
    "        dest_path = os.path.join(dest_dir, image_name)\n",
    "        shutil.copyfile(src_path, dest_path)"
   ]
  },
  {
   "cell_type": "markdown",
   "id": "0535a208",
   "metadata": {},
   "source": [
    "##### Convert given annotations to yolo labels format"
   ]
  },
  {
   "cell_type": "code",
   "execution_count": 4,
   "id": "a08b960a",
   "metadata": {},
   "outputs": [],
   "source": [
    "def yolo_labels(images_dir, orig_labels_dir, yolo_labels_dir):\n",
    "    image_names = sorted(os.listdir(images_dir))\n",
    "    train_labels = pd.read_json(orig_labels_dir)[['image_id', 'category_id', 'bbox']]\n",
    "\n",
    "    if not os.path.exists(yolo_labels_dir):\n",
    "        os.makedirs(yolo_labels_dir)\n",
    "    \n",
    "    for _, row in train_labels.iterrows():\n",
    "        image_id, category_id, bbox = row['image_id'], row['category_id'], row['bbox']\n",
    "\n",
    "        xmin, ymin, box_width, box_height = bbox\n",
    "        xmin, ymin, box_width, box_height = int(xmin), int(ymin), int(box_width), int(box_height)\n",
    "        xmax, ymax = xmin + box_width, ymin + box_height\n",
    "\n",
    "        image_name = image_names[int(image_id)]\n",
    "        curr_path = os.path.join(images_dir, image_name)\n",
    "        image = cv2.imread(curr_path)\n",
    "        image_width, image_height = image.shape[:2]\n",
    "\n",
    "        x_center = (xmin + xmax) / (2 * image_width)\n",
    "        y_center = (ymin + ymax) / (2 * image_height)\n",
    "        box_width = box_width / image_width\n",
    "        box_height = box_height / image_height\n",
    "\n",
    "        yolo_label_format = f'{category_id} {x_center:.5f} {y_center:.5f} {box_width:.5f} {box_height:.5f}'\n",
    "\n",
    "        label_file_name = str(image_name).replace('.jpg', '')\n",
    "\n",
    "        label_path = os.path.join(yolo_labels_dir, label_file_name + '.txt')\n",
    "        with open(label_path, 'w') as file:\n",
    "            file.write(yolo_label_format)"
   ]
  },
  {
   "cell_type": "code",
   "execution_count": 4,
   "id": "490dd0ea",
   "metadata": {},
   "outputs": [],
   "source": [
    "yolo_dataset('../archive/train/train/', './data/images/train/')"
   ]
  },
  {
   "cell_type": "code",
   "execution_count": 5,
   "id": "484d7213",
   "metadata": {},
   "outputs": [],
   "source": [
    "yolo_dataset('../archive/valid/valid/', './data/images/valid/')"
   ]
  },
  {
   "cell_type": "code",
   "execution_count": 6,
   "id": "9f4ad2da",
   "metadata": {},
   "outputs": [],
   "source": [
    "yolo_labels('../archive/train/train/', '../archive/train_annotations', './data/labels/train/')"
   ]
  },
  {
   "cell_type": "code",
   "execution_count": 7,
   "id": "1945a4a5",
   "metadata": {},
   "outputs": [],
   "source": [
    "yolo_labels('../archive/valid/valid/', '../archive/valid_annotations', './data/labels/valid/')"
   ]
  },
  {
   "cell_type": "markdown",
   "id": "c1a69a10",
   "metadata": {},
   "source": [
    "##### Training"
   ]
  },
  {
   "cell_type": "code",
   "execution_count": 8,
   "id": "7d243fc0",
   "metadata": {},
   "outputs": [
    {
     "name": "stderr",
     "output_type": "stream",
     "text": [
      "\n",
      "                   from  n    params  module                                       arguments                     \n",
      "  0                  -1  1       464  ultralytics.nn.modules.conv.Conv             [3, 16, 3, 2]                 \n",
      "  1                  -1  1      4672  ultralytics.nn.modules.conv.Conv             [16, 32, 3, 2]                \n",
      "  2                  -1  1      7360  ultralytics.nn.modules.block.C2f             [32, 32, 1, True]             \n",
      "  3                  -1  1     18560  ultralytics.nn.modules.conv.Conv             [32, 64, 3, 2]                \n",
      "  4                  -1  2     49664  ultralytics.nn.modules.block.C2f             [64, 64, 2, True]             \n",
      "  5                  -1  1     73984  ultralytics.nn.modules.conv.Conv             [64, 128, 3, 2]               \n",
      "  6                  -1  2    197632  ultralytics.nn.modules.block.C2f             [128, 128, 2, True]           \n",
      "  7                  -1  1    295424  ultralytics.nn.modules.conv.Conv             [128, 256, 3, 2]              \n",
      "  8                  -1  1    460288  ultralytics.nn.modules.block.C2f             [256, 256, 1, True]           \n",
      "  9                  -1  1    164608  ultralytics.nn.modules.block.SPPF            [256, 256, 5]                 \n",
      " 10                  -1  1         0  torch.nn.modules.upsampling.Upsample         [None, 2, 'nearest']          \n",
      " 11             [-1, 6]  1         0  ultralytics.nn.modules.conv.Concat           [1]                           \n",
      " 12                  -1  1    148224  ultralytics.nn.modules.block.C2f             [384, 128, 1]                 \n",
      " 13                  -1  1         0  torch.nn.modules.upsampling.Upsample         [None, 2, 'nearest']          \n",
      " 14             [-1, 4]  1         0  ultralytics.nn.modules.conv.Concat           [1]                           \n",
      " 15                  -1  1     37248  ultralytics.nn.modules.block.C2f             [192, 64, 1]                  \n",
      " 16                  -1  1     36992  ultralytics.nn.modules.conv.Conv             [64, 64, 3, 2]                \n",
      " 17            [-1, 12]  1         0  ultralytics.nn.modules.conv.Concat           [1]                           \n",
      " 18                  -1  1    123648  ultralytics.nn.modules.block.C2f             [192, 128, 1]                 \n",
      " 19                  -1  1    147712  ultralytics.nn.modules.conv.Conv             [128, 128, 3, 2]              \n",
      " 20             [-1, 9]  1         0  ultralytics.nn.modules.conv.Concat           [1]                           \n",
      " 21                  -1  1    493056  ultralytics.nn.modules.block.C2f             [384, 256, 1]                 \n",
      " 22        [15, 18, 21]  1    897664  ultralytics.nn.modules.head.Detect           [80, [64, 128, 256]]          \n",
      "YOLOv8n summary: 225 layers, 3157200 parameters, 3157184 gradients\n",
      "\n"
     ]
    }
   ],
   "source": [
    "# Create a new YOLO model from scratch\n",
    "model = YOLO('yolov8n.yaml')"
   ]
  },
  {
   "cell_type": "code",
   "execution_count": 11,
   "id": "e34a0e23",
   "metadata": {},
   "outputs": [
    {
     "name": "stderr",
     "output_type": "stream",
     "text": [
      "Ultralytics YOLOv8.0.136  Python-3.9.16 torch-2.0.1+cpu CPU (Intel Core(TM) i7-6500U 2.50GHz)\n",
      "\u001b[34m\u001b[1mengine\\trainer: \u001b[0mtask=detect, mode=train, model=yolov8n.yaml, data=yolo_config.yaml, epochs=10, patience=50, batch=16, imgsz=640, save=True, save_period=-1, cache=False, device=None, workers=8, project=None, name=None, exist_ok=False, pretrained=True, optimizer=auto, verbose=True, seed=0, deterministic=True, single_cls=False, rect=False, cos_lr=False, close_mosaic=10, resume=False, amp=True, fraction=1.0, profile=False, overlap_mask=True, mask_ratio=4, dropout=0.0, val=True, split=val, save_json=False, save_hybrid=False, conf=None, iou=0.7, max_det=300, half=False, dnn=False, plots=True, source=None, show=False, save_txt=False, save_conf=False, save_crop=False, show_labels=True, show_conf=True, vid_stride=1, line_width=None, visualize=False, augment=False, agnostic_nms=False, classes=None, retina_masks=False, boxes=True, format=torchscript, keras=False, optimize=False, int8=False, dynamic=False, simplify=False, opset=None, workspace=4, nms=False, lr0=0.01, lrf=0.01, momentum=0.937, weight_decay=0.0005, warmup_epochs=3.0, warmup_momentum=0.8, warmup_bias_lr=0.1, box=7.5, cls=0.5, dfl=1.5, pose=12.0, kobj=1.0, label_smoothing=0.0, nbs=64, hsv_h=0.015, hsv_s=0.7, hsv_v=0.4, degrees=0.0, translate=0.1, scale=0.5, shear=0.0, perspective=0.0, flipud=0.0, fliplr=0.5, mosaic=1.0, mixup=0.0, copy_paste=0.0, cfg=None, tracker=botsort.yaml, save_dir=runs\\detect\\train2\n",
      "Overriding model.yaml nc=80 with nc=3\n",
      "\n",
      "                   from  n    params  module                                       arguments                     \n",
      "  0                  -1  1       464  ultralytics.nn.modules.conv.Conv             [3, 16, 3, 2]                 \n",
      "  1                  -1  1      4672  ultralytics.nn.modules.conv.Conv             [16, 32, 3, 2]                \n",
      "  2                  -1  1      7360  ultralytics.nn.modules.block.C2f             [32, 32, 1, True]             \n",
      "  3                  -1  1     18560  ultralytics.nn.modules.conv.Conv             [32, 64, 3, 2]                \n",
      "  4                  -1  2     49664  ultralytics.nn.modules.block.C2f             [64, 64, 2, True]             \n",
      "  5                  -1  1     73984  ultralytics.nn.modules.conv.Conv             [64, 128, 3, 2]               \n",
      "  6                  -1  2    197632  ultralytics.nn.modules.block.C2f             [128, 128, 2, True]           \n",
      "  7                  -1  1    295424  ultralytics.nn.modules.conv.Conv             [128, 256, 3, 2]              \n",
      "  8                  -1  1    460288  ultralytics.nn.modules.block.C2f             [256, 256, 1, True]           \n",
      "  9                  -1  1    164608  ultralytics.nn.modules.block.SPPF            [256, 256, 5]                 \n",
      " 10                  -1  1         0  torch.nn.modules.upsampling.Upsample         [None, 2, 'nearest']          \n",
      " 11             [-1, 6]  1         0  ultralytics.nn.modules.conv.Concat           [1]                           \n",
      " 12                  -1  1    148224  ultralytics.nn.modules.block.C2f             [384, 128, 1]                 \n",
      " 13                  -1  1         0  torch.nn.modules.upsampling.Upsample         [None, 2, 'nearest']          \n",
      " 14             [-1, 4]  1         0  ultralytics.nn.modules.conv.Concat           [1]                           \n",
      " 15                  -1  1     37248  ultralytics.nn.modules.block.C2f             [192, 64, 1]                  \n",
      " 16                  -1  1     36992  ultralytics.nn.modules.conv.Conv             [64, 64, 3, 2]                \n",
      " 17            [-1, 12]  1         0  ultralytics.nn.modules.conv.Concat           [1]                           \n",
      " 18                  -1  1    123648  ultralytics.nn.modules.block.C2f             [192, 128, 1]                 \n",
      " 19                  -1  1    147712  ultralytics.nn.modules.conv.Conv             [128, 128, 3, 2]              \n",
      " 20             [-1, 9]  1         0  ultralytics.nn.modules.conv.Concat           [1]                           \n",
      " 21                  -1  1    493056  ultralytics.nn.modules.block.C2f             [384, 256, 1]                 \n",
      " 22        [15, 18, 21]  1    751897  ultralytics.nn.modules.head.Detect           [3, [64, 128, 256]]           \n",
      "YOLOv8n summary: 225 layers, 3011433 parameters, 3011417 gradients\n",
      "\n",
      "\u001b[34m\u001b[1mtrain: \u001b[0mScanning D:\\JupyterNoteBook\\COMP9517\\Project-Test\\yolo\\data\\labels\\train... 500 images, 0 backgrounds, 0 corrupt: 100%|██████████| 500/500 [00:00<00:00, 1026.44it/s]\n",
      "\u001b[34m\u001b[1mtrain: \u001b[0mNew cache created: D:\\JupyterNoteBook\\COMP9517\\Project-Test\\yolo\\data\\labels\\train.cache\n",
      "\u001b[34m\u001b[1mval: \u001b[0mScanning D:\\JupyterNoteBook\\COMP9517\\Project-Test\\yolo\\data\\labels\\valid... 72 images, 0 backgrounds, 0 corrupt: 100%|██████████| 72/72 [00:00<00:00, 1037.31it/s]\n",
      "\u001b[34m\u001b[1mval: \u001b[0mNew cache created: D:\\JupyterNoteBook\\COMP9517\\Project-Test\\yolo\\data\\labels\\valid.cache\n",
      "Plotting labels to runs\\detect\\train2\\labels.jpg... \n",
      "\u001b[34m\u001b[1moptimizer:\u001b[0m AdamW(lr=0.001429, momentum=0.9) with parameter groups 57 weight(decay=0.0), 64 weight(decay=0.0005), 63 bias(decay=0.0)\n",
      "Image sizes 640 train, 640 val\n",
      "Using 0 dataloader workers\n",
      "Logging results to \u001b[1mruns\\detect\\train2\u001b[0m\n",
      "Starting training for 10 epochs...\n",
      "Closing dataloader mosaic\n",
      "\n",
      "      Epoch    GPU_mem   box_loss   cls_loss   dfl_loss  Instances       Size\n",
      "       1/10         0G      2.996      5.002      4.262          4        640: 100%|██████████| 32/32 [08:23<00:00, 15.75s/it]\n",
      "                 Class     Images  Instances      Box(P          R      mAP50  mAP50-95): 100%|██████████| 3/3 [00:25<00:00,  8.61s/it]\n",
      "                   all         72         72    0.00352      0.528    0.00524    0.00132\n",
      "\n",
      "      Epoch    GPU_mem   box_loss   cls_loss   dfl_loss  Instances       Size\n",
      "       2/10         0G      2.952      4.732      4.071          4        640: 100%|██████████| 32/32 [07:37<00:00, 14.30s/it]\n",
      "                 Class     Images  Instances      Box(P          R      mAP50  mAP50-95): 100%|██████████| 3/3 [00:27<00:00,  9.26s/it]\n",
      "                   all         72         72     0.0033      0.528     0.0054    0.00133\n",
      "\n",
      "      Epoch    GPU_mem   box_loss   cls_loss   dfl_loss  Instances       Size\n",
      "       3/10         0G       2.83      4.428      3.811          4        640: 100%|██████████| 32/32 [10:32<00:00, 19.78s/it]\n",
      "                 Class     Images  Instances      Box(P          R      mAP50  mAP50-95): 100%|██████████| 3/3 [00:30<00:00, 10.24s/it]\n",
      "                   all         72         72    0.00402      0.486    0.00386     0.0011\n",
      "\n",
      "      Epoch    GPU_mem   box_loss   cls_loss   dfl_loss  Instances       Size\n",
      "       4/10         0G      2.719      4.105      3.584          4        640: 100%|██████████| 32/32 [08:30<00:00, 15.95s/it]\n",
      "                 Class     Images  Instances      Box(P          R      mAP50  mAP50-95): 100%|██████████| 3/3 [00:28<00:00,  9.61s/it]\n",
      "                   all         72         72    0.00394      0.583     0.0103    0.00265\n",
      "\n",
      "      Epoch    GPU_mem   box_loss   cls_loss   dfl_loss  Instances       Size\n",
      "       5/10         0G      2.619        3.8      3.358          4        640: 100%|██████████| 32/32 [08:38<00:00, 16.22s/it]\n",
      "                 Class     Images  Instances      Box(P          R      mAP50  mAP50-95): 100%|██████████| 3/3 [00:31<00:00, 10.54s/it]\n",
      "                   all         72         72     0.0638      0.111     0.0334    0.00781\n",
      "\n",
      "      Epoch    GPU_mem   box_loss   cls_loss   dfl_loss  Instances       Size\n",
      "       6/10         0G      2.522      3.593      3.215          4        640: 100%|██████████| 32/32 [09:20<00:00, 17.51s/it]\n",
      "                 Class     Images  Instances      Box(P          R      mAP50  mAP50-95): 100%|██████████| 3/3 [00:33<00:00, 11.01s/it]\n",
      "                   all         72         72      0.592      0.208      0.123     0.0344\n",
      "\n",
      "      Epoch    GPU_mem   box_loss   cls_loss   dfl_loss  Instances       Size\n",
      "       7/10         0G      2.432      3.408      3.185          4        640: 100%|██████████| 32/32 [07:56<00:00, 14.89s/it]\n",
      "                 Class     Images  Instances      Box(P          R      mAP50  mAP50-95): 100%|██████████| 3/3 [00:26<00:00,  8.80s/it]\n",
      "                   all         72         72      0.772      0.139      0.169     0.0522\n",
      "\n",
      "      Epoch    GPU_mem   box_loss   cls_loss   dfl_loss  Instances       Size\n",
      "       8/10         0G       2.35      3.301       3.12          4        640: 100%|██████████| 32/32 [07:28<00:00, 14.01s/it]\n",
      "                 Class     Images  Instances      Box(P          R      mAP50  mAP50-95): 100%|██████████| 3/3 [00:25<00:00,  8.62s/it]\n",
      "                   all         72         72      0.549      0.194      0.238     0.0893\n",
      "\n",
      "      Epoch    GPU_mem   box_loss   cls_loss   dfl_loss  Instances       Size\n",
      "       9/10         0G      2.338      3.108      3.063          4        640: 100%|██████████| 32/32 [07:55<00:00, 14.85s/it]\n",
      "                 Class     Images  Instances      Box(P          R      mAP50  mAP50-95): 100%|██████████| 3/3 [00:32<00:00, 10.90s/it]\n",
      "                   all         72         72       0.52      0.214      0.268     0.0902\n",
      "\n",
      "      Epoch    GPU_mem   box_loss   cls_loss   dfl_loss  Instances       Size\n",
      "      10/10         0G      2.259      3.086      2.972          4        640: 100%|██████████| 32/32 [07:36<00:00, 14.26s/it]\n",
      "                 Class     Images  Instances      Box(P          R      mAP50  mAP50-95): 100%|██████████| 3/3 [00:26<00:00,  8.92s/it]\n",
      "                   all         72         72      0.397      0.306      0.267     0.0954\n",
      "\n",
      "10 epochs completed in 1.483 hours.\n",
      "Optimizer stripped from runs\\detect\\train2\\weights\\last.pt, 6.2MB\n",
      "Optimizer stripped from runs\\detect\\train2\\weights\\best.pt, 6.2MB\n",
      "\n",
      "Validating runs\\detect\\train2\\weights\\best.pt...\n",
      "Ultralytics YOLOv8.0.136  Python-3.9.16 torch-2.0.1+cpu CPU (Intel Core(TM) i7-6500U 2.50GHz)\n",
      "YOLOv8n summary (fused): 168 layers, 3006233 parameters, 0 gradients\n",
      "                 Class     Images  Instances      Box(P          R      mAP50  mAP50-95): 100%|██████████| 3/3 [00:22<00:00,  7.50s/it]\n",
      "                   all         72         72      0.398      0.306      0.267     0.0953\n",
      "               penguin         72         36       0.59      0.333      0.375      0.128\n",
      "                turtle         72         36      0.206      0.278      0.159     0.0628\n",
      "Speed: 3.6ms preprocess, 290.1ms inference, 0.0ms loss, 4.1ms postprocess per image\n",
      "Results saved to \u001b[1mruns\\detect\\train2\u001b[0m\n"
     ]
    }
   ],
   "source": [
    "# Train the model using the 'coco128.yaml' dataset for 10 epochs\n",
    "results = model.train(data='yolo_config.yaml', epochs=10)"
   ]
  },
  {
   "cell_type": "markdown",
   "id": "13ba655a",
   "metadata": {},
   "source": [
    "##### Testing"
   ]
  },
  {
   "cell_type": "code",
   "execution_count": 15,
   "id": "6d7ec688",
   "metadata": {},
   "outputs": [],
   "source": [
    "# Notice: these weight files were generated when training yolo model in colab.\n",
    "\n",
    "# My shit laptop can't make it. Even 10 Epoch will be very time consuming.\n",
    "\n",
    "# If training model in local enviroment, it will be stored in runs/detect/train/weights\n",
    "\n",
    "test_model = YOLO('./colab_generated_weights/best.pt')"
   ]
  },
  {
   "cell_type": "code",
   "execution_count": 13,
   "id": "b802ab9d",
   "metadata": {},
   "outputs": [],
   "source": [
    "# Function to perform object detection\n",
    "def detection(img_path, model):\n",
    "    # Load image\n",
    "    img = cv2.imread(img_path)\n",
    "\n",
    "    # Perform object detection\n",
    "    results = model.predict(source = img)\n",
    "\n",
    "    # print(f'results = {results}')\n",
    "\n",
    "    # Extract bounding boxes\n",
    "    boxes = results[0].boxes\n",
    "    print(f'boxes length = {len(boxes)}')\n",
    "\n",
    "    bounding_boxes = []\n",
    "\n",
    "    for box in boxes:\n",
    "        left, top, right, bottom = box.xyxy[0]\n",
    "        left, top, right, bottom = int(left), int(top), int(right), int(bottom)\n",
    "        print(left, top, right, bottom)\n",
    "        print(f'box = {box}')\n",
    "\n",
    "        cls_id = int(list(box.cls)[0])\n",
    "\n",
    "        print(f'cls_id = {cls_id}')\n",
    "\n",
    "        bounding_boxes.append((left, top, right, bottom))\n",
    "\n",
    "    return bounding_boxes"
   ]
  },
  {
   "cell_type": "code",
   "execution_count": 14,
   "id": "92a0a988",
   "metadata": {},
   "outputs": [
    {
     "name": "stderr",
     "output_type": "stream",
     "text": [
      "\n",
      "0: 640x640 1 turtle, 417.1ms\n",
      "Speed: 6.0ms preprocess, 417.1ms inference, 3.0ms postprocess per image at shape (1, 3, 640, 640)\n",
      "WARNING  'Boxes.boxes' is deprecated. Use 'Boxes.data' instead.\n"
     ]
    },
    {
     "name": "stdout",
     "output_type": "stream",
     "text": [
      "boxes length = 1\n",
      "215 40 560 364\n",
      "box = ultralytics.engine.results.Boxes object with attributes:\n",
      "\n",
      "boxes: tensor([[215.1532,  40.3934, 560.2317, 364.9516,   0.9322,   2.0000]])\n",
      "cls: tensor([2.])\n",
      "conf: tensor([0.9322])\n",
      "data: tensor([[215.1532,  40.3934, 560.2317, 364.9516,   0.9322,   2.0000]])\n",
      "id: None\n",
      "is_track: False\n",
      "orig_shape: (640, 640)\n",
      "shape: torch.Size([1, 6])\n",
      "xywh: tensor([[387.6924, 202.6725, 345.0785, 324.5582]])\n",
      "xywhn: tensor([[0.6058, 0.3167, 0.5392, 0.5071]])\n",
      "xyxy: tensor([[215.1532,  40.3934, 560.2317, 364.9516]])\n",
      "xyxyn: tensor([[0.3362, 0.0631, 0.8754, 0.5702]])\n",
      "cls_id = 2\n"
     ]
    }
   ],
   "source": [
    "# Example usage\n",
    "# image_path = '../archive/train/train/image_id_000.jpg'\n",
    "image_path = '../archive/valid/valid/image_id_071.jpg'\n",
    "\n",
    "image = cv2.imread(image_path)\n",
    "\n",
    "bounding_boxes = detection(image_path, test_model)\n",
    "\n",
    "# Draw bounding boxes on the image\n",
    "for (left, top, right, bottom) in bounding_boxes:\n",
    "    start_point = (left, top)\n",
    "    end_point = (right, bottom)\n",
    "    color = (0, 255, 0)\n",
    "    thickness = 2\n",
    "    lineType = cv2.LINE_AA\n",
    "    cv2.rectangle(image, start_point, end_point, color, thickness, lineType)\n",
    "\n",
    "cv2.imshow('Output', image)\n",
    "cv2.waitKey(0)\n",
    "cv2.destroyAllWindows()"
   ]
  }
 ],
 "metadata": {
  "kernelspec": {
   "display_name": "Python 3 (ipykernel)",
   "language": "python",
   "name": "python3"
  },
  "language_info": {
   "codemirror_mode": {
    "name": "ipython",
    "version": 3
   },
   "file_extension": ".py",
   "mimetype": "text/x-python",
   "name": "python",
   "nbconvert_exporter": "python",
   "pygments_lexer": "ipython3",
   "version": "3.9.16"
  }
 },
 "nbformat": 4,
 "nbformat_minor": 5
}
