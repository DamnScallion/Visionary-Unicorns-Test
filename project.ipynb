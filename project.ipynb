{
 "cells": [
  {
   "cell_type": "code",
   "execution_count": 1,
   "id": "47493c40",
   "metadata": {},
   "outputs": [],
   "source": [
    "import cv2\n",
    "import numpy as np\n",
    "import matplotlib.pyplot as plt\n",
    "from ultralytics import YOLO"
   ]
  },
  {
   "cell_type": "markdown",
   "id": "c4a3446f",
   "metadata": {},
   "source": [
    "##### run 'pip install ultralytics' if didn't intall it before"
   ]
  },
  {
   "cell_type": "code",
   "execution_count": 2,
   "id": "8d24d0f9",
   "metadata": {},
   "outputs": [],
   "source": [
    "model = YOLO('./yolo_weights/yolov8l.pt')"
   ]
  },
  {
   "cell_type": "markdown",
   "id": "216bc14c",
   "metadata": {},
   "source": [
    "### Detect for 'Penguin' peform well enough"
   ]
  },
  {
   "cell_type": "code",
   "execution_count": 11,
   "id": "f2c21787",
   "metadata": {},
   "outputs": [
    {
     "name": "stderr",
     "output_type": "stream",
     "text": [
      "\n",
      "image 1/1 d:\\JupyterNoteBook\\COMP9517\\Project-Test\\archive\\train\\train\\image_id_008.jpg: 640x640 1 bird, 2979.2ms\n",
      "Speed: 6.0ms preprocess, 2979.2ms inference, 3.0ms postprocess per image at shape (1, 3, 640, 640)\n"
     ]
    },
    {
     "data": {
      "text/plain": [
       "-1"
      ]
     },
     "execution_count": 11,
     "metadata": {},
     "output_type": "execute_result"
    }
   ],
   "source": [
    "results = model('./archive/train/train/image_id_008.jpg', show = True)\n",
    "cv2.waitKey(0)"
   ]
  },
  {
   "cell_type": "code",
   "execution_count": 10,
   "id": "597a1f5c",
   "metadata": {},
   "outputs": [
    {
     "name": "stderr",
     "output_type": "stream",
     "text": [
      "WARNING  'Boxes.boxes' is deprecated. Use 'Boxes.data' instead.\n"
     ]
    },
    {
     "data": {
      "text/plain": [
       "ultralytics.yolo.engine.results.Boxes object with attributes:\n",
       "\n",
       "boxes: tensor([[3.2875e+02, 2.9460e+02, 5.6926e+02, 6.3959e+02, 5.8155e-01, 1.4000e+01]])\n",
       "cls: tensor([14.])\n",
       "conf: tensor([0.5815])\n",
       "data: tensor([[3.2875e+02, 2.9460e+02, 5.6926e+02, 6.3959e+02, 5.8155e-01, 1.4000e+01]])\n",
       "id: None\n",
       "is_track: False\n",
       "orig_shape: (640, 640)\n",
       "shape: torch.Size([1, 6])\n",
       "xywh: tensor([[449.0017, 467.0967, 240.5081, 344.9897]])\n",
       "xywhn: tensor([[0.7016, 0.7298, 0.3758, 0.5390]])\n",
       "xyxy: tensor([[328.7476, 294.6018, 569.2557, 639.5916]])\n",
       "xyxyn: tensor([[0.5137, 0.4603, 0.8895, 0.9994]])"
      ]
     },
     "execution_count": 10,
     "metadata": {},
     "output_type": "execute_result"
    }
   ],
   "source": [
    "results[0].boxes"
   ]
  },
  {
   "cell_type": "markdown",
   "id": "f45aa8b7",
   "metadata": {},
   "source": [
    "### Detect for 'Turtle' peform really bad"
   ]
  },
  {
   "cell_type": "code",
   "execution_count": null,
   "id": "cccae869",
   "metadata": {},
   "outputs": [],
   "source": [
    "# results = model('./archive/train/train/image_id_002.jpg', show = True)"
   ]
  },
  {
   "cell_type": "code",
   "execution_count": null,
   "id": "bceb8185",
   "metadata": {},
   "outputs": [],
   "source": [
    "# cv2.waitKey(0)"
   ]
  }
 ],
 "metadata": {
  "kernelspec": {
   "display_name": "Python 3 (ipykernel)",
   "language": "python",
   "name": "python3"
  },
  "language_info": {
   "codemirror_mode": {
    "name": "ipython",
    "version": 3
   },
   "file_extension": ".py",
   "mimetype": "text/x-python",
   "name": "python",
   "nbconvert_exporter": "python",
   "pygments_lexer": "ipython3",
   "version": "3.9.16"
  }
 },
 "nbformat": 4,
 "nbformat_minor": 5
}
