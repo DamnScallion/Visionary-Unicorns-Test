{
 "cells": [
  {
   "cell_type": "code",
   "execution_count": null,
   "id": "47493c40",
   "metadata": {},
   "outputs": [],
   "source": [
    "import cv2\n",
    "import numpy as np\n",
    "import matplotlib.pyplot as plt\n",
    "from ultralytics import YOLO"
   ]
  },
  {
   "cell_type": "markdown",
   "id": "c4a3446f",
   "metadata": {},
   "source": [
    "##### run 'pip install ultralytics' if didn't intall it before"
   ]
  },
  {
   "cell_type": "code",
   "execution_count": null,
   "id": "8d24d0f9",
   "metadata": {},
   "outputs": [],
   "source": [
    "model = YOLO('./yolo_weights/yolov8l.pt')"
   ]
  },
  {
   "cell_type": "markdown",
   "id": "216bc14c",
   "metadata": {},
   "source": [
    "### Detect for 'Plugin' peform well enough"
   ]
  },
  {
   "cell_type": "code",
   "execution_count": null,
   "id": "f2c21787",
   "metadata": {},
   "outputs": [],
   "source": [
    "results = model('./archive/train/train/image_id_008.jpg', show = True)"
   ]
  },
  {
   "cell_type": "markdown",
   "id": "f45aa8b7",
   "metadata": {},
   "source": [
    "### Detect for 'Turtle' peform really bad"
   ]
  },
  {
   "cell_type": "code",
   "execution_count": null,
   "id": "cccae869",
   "metadata": {},
   "outputs": [],
   "source": [
    "# results = model('./archive/train/train/image_id_002.jpg', show = True)"
   ]
  },
  {
   "cell_type": "code",
   "execution_count": null,
   "id": "bceb8185",
   "metadata": {},
   "outputs": [],
   "source": [
    "cv2.waitKey(0)"
   ]
  }
 ],
 "metadata": {
  "kernelspec": {
   "display_name": "Python 3 (ipykernel)",
   "language": "python",
   "name": "python3"
  },
  "language_info": {
   "codemirror_mode": {
    "name": "ipython",
    "version": 3
   },
   "file_extension": ".py",
   "mimetype": "text/x-python",
   "name": "python",
   "nbconvert_exporter": "python",
   "pygments_lexer": "ipython3",
   "version": "3.9.16"
  }
 },
 "nbformat": 4,
 "nbformat_minor": 5
}
