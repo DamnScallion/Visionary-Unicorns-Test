{
 "cells": [
  {
   "cell_type": "code",
   "execution_count": 3,
   "id": "47493c40",
   "metadata": {},
   "outputs": [],
   "source": [
    "import cv2\n",
    "import numpy as np\n",
    "import matplotlib.pyplot as plt\n",
    "import matplotlib.patches as patches\n",
    "from ultralytics import YOLO"
   ]
  },
  {
   "cell_type": "code",
   "execution_count": 4,
   "id": "8d24d0f9",
   "metadata": {},
   "outputs": [],
   "source": [
    "model = YOLO('./yolo_weights/yolov8l.pt')"
   ]
  },
  {
   "cell_type": "code",
   "execution_count": 5,
   "id": "b477e3a7",
   "metadata": {},
   "outputs": [],
   "source": [
    "# Function to perform object detection\n",
    "def detection(img_path, model):\n",
    "    # Load image\n",
    "    img = cv2.imread(img_path)\n",
    "\n",
    "    # Perform object detection\n",
    "    results = model.predict(source = img)\n",
    "\n",
    "    # print(f'results = {results}')\n",
    "\n",
    "    # Extract bounding boxes\n",
    "    boxes = results[0].boxes\n",
    "    print(f'boxes length = {len(boxes)}')\n",
    "\n",
    "    bounding_boxes = []\n",
    "\n",
    "    for box in boxes:\n",
    "        left, top, right, bottom = box.xyxy[0]\n",
    "        left, top, right, bottom = int(left), int(top), int(right), int(bottom)\n",
    "        print(left, top, right, bottom)\n",
    "        print(f'box = {box}')\n",
    "\n",
    "        cls_id = int(list(box.cls)[0])\n",
    "\n",
    "        print(f'cls_id = {cls_id}')\n",
    "\n",
    "        bounding_boxes.append((left, top, right, bottom))\n",
    "\n",
    "    return bounding_boxes\n"
   ]
  },
  {
   "cell_type": "code",
   "execution_count": 7,
   "id": "ae7ed89b",
   "metadata": {},
   "outputs": [
    {
     "name": "stderr",
     "output_type": "stream",
     "text": [
      "\n"
     ]
    },
    {
     "name": "stderr",
     "output_type": "stream",
     "text": [
      "0: 640x640 1 bird, 2628.7ms\n",
      "Speed: 8.0ms preprocess, 2628.7ms inference, 55.1ms postprocess per image at shape (1, 3, 640, 640)\n",
      "WARNING  'Boxes.boxes' is deprecated. Use 'Boxes.data' instead.\n"
     ]
    },
    {
     "name": "stdout",
     "output_type": "stream",
     "text": [
      "results = [ultralytics.yolo.engine.results.Results object with attributes:\n",
      "\n",
      "boxes: ultralytics.yolo.engine.results.Boxes object\n",
      "keypoints: None\n",
      "keys: ['boxes']\n",
      "masks: None\n",
      "names: {0: 'person', 1: 'bicycle', 2: 'car', 3: 'motorcycle', 4: 'airplane', 5: 'bus', 6: 'train', 7: 'truck', 8: 'boat', 9: 'traffic light', 10: 'fire hydrant', 11: 'stop sign', 12: 'parking meter', 13: 'bench', 14: 'bird', 15: 'cat', 16: 'dog', 17: 'horse', 18: 'sheep', 19: 'cow', 20: 'elephant', 21: 'bear', 22: 'zebra', 23: 'giraffe', 24: 'backpack', 25: 'umbrella', 26: 'handbag', 27: 'tie', 28: 'suitcase', 29: 'frisbee', 30: 'skis', 31: 'snowboard', 32: 'sports ball', 33: 'kite', 34: 'baseball bat', 35: 'baseball glove', 36: 'skateboard', 37: 'surfboard', 38: 'tennis racket', 39: 'bottle', 40: 'wine glass', 41: 'cup', 42: 'fork', 43: 'knife', 44: 'spoon', 45: 'bowl', 46: 'banana', 47: 'apple', 48: 'sandwich', 49: 'orange', 50: 'broccoli', 51: 'carrot', 52: 'hot dog', 53: 'pizza', 54: 'donut', 55: 'cake', 56: 'chair', 57: 'couch', 58: 'potted plant', 59: 'bed', 60: 'dining table', 61: 'toilet', 62: 'tv', 63: 'laptop', 64: 'mouse', 65: 'remote', 66: 'keyboard', 67: 'cell phone', 68: 'microwave', 69: 'oven', 70: 'toaster', 71: 'sink', 72: 'refrigerator', 73: 'book', 74: 'clock', 75: 'vase', 76: 'scissors', 77: 'teddy bear', 78: 'hair drier', 79: 'toothbrush'}\n",
      "orig_img: array([[[ 53,  52,  48],\n",
      "        [ 50,  49,  45],\n",
      "        [ 47,  46,  42],\n",
      "        ...,\n",
      "        [109, 124, 116],\n",
      "        [118, 133, 125],\n",
      "        [127, 144, 135]],\n",
      "\n",
      "       [[ 53,  52,  48],\n",
      "        [ 50,  49,  45],\n",
      "        [ 47,  46,  42],\n",
      "        ...,\n",
      "        [108, 121, 113],\n",
      "        [113, 128, 120],\n",
      "        [122, 139, 130]],\n",
      "\n",
      "       [[ 53,  52,  48],\n",
      "        [ 50,  49,  45],\n",
      "        [ 47,  46,  42],\n",
      "        ...,\n",
      "        [104, 117, 109],\n",
      "        [105, 120, 112],\n",
      "        [112, 127, 119]],\n",
      "\n",
      "       ...,\n",
      "\n",
      "       [[133, 121, 115],\n",
      "        [126, 114, 108],\n",
      "        [117, 105,  99],\n",
      "        ...,\n",
      "        [154, 156, 150],\n",
      "        [155, 157, 151],\n",
      "        [157, 159, 153]],\n",
      "\n",
      "       [[137, 125, 119],\n",
      "        [129, 117, 111],\n",
      "        [118, 106, 100],\n",
      "        ...,\n",
      "        [155, 157, 151],\n",
      "        [157, 159, 153],\n",
      "        [158, 160, 154]],\n",
      "\n",
      "       [[139, 127, 121],\n",
      "        [131, 119, 113],\n",
      "        [119, 107, 101],\n",
      "        ...,\n",
      "        [158, 160, 154],\n",
      "        [160, 162, 156],\n",
      "        [161, 163, 157]]], dtype=uint8)\n",
      "orig_shape: (640, 640)\n",
      "path: 'image0.jpg'\n",
      "probs: None\n",
      "save_dir: None\n",
      "speed: {'preprocess': 7.978200912475586, 'inference': 2628.694772720337, 'postprocess': 55.14097213745117}]\n",
      "boxes length = 1\n",
      "328 294 569 639\n",
      "box = ultralytics.yolo.engine.results.Boxes object with attributes:\n",
      "\n",
      "boxes: tensor([[3.2875e+02, 2.9460e+02, 5.6926e+02, 6.3959e+02, 5.8155e-01, 1.4000e+01]])\n",
      "cls: tensor([14.])\n",
      "conf: tensor([0.5815])\n",
      "data: tensor([[3.2875e+02, 2.9460e+02, 5.6926e+02, 6.3959e+02, 5.8155e-01, 1.4000e+01]])\n",
      "id: None\n",
      "is_track: False\n",
      "orig_shape: (640, 640)\n",
      "shape: torch.Size([1, 6])\n",
      "xywh: tensor([[449.0017, 467.0967, 240.5081, 344.9897]])\n",
      "xywhn: tensor([[0.7016, 0.7298, 0.3758, 0.5390]])\n",
      "xyxy: tensor([[328.7476, 294.6018, 569.2557, 639.5916]])\n",
      "xyxyn: tensor([[0.5137, 0.4603, 0.8895, 0.9994]])\n",
      "cls_id = 14\n"
     ]
    }
   ],
   "source": [
    "# Example usage\n",
    "image_path = './archive/train/train/image_id_008.jpg'\n",
    "\n",
    "# Create figure and axes\n",
    "image = cv2.imread(image_path)\n",
    "\n",
    "bounding_boxes = detection(image_path, model)\n",
    "\n",
    "for (left, top, right, bottom) in bounding_boxes:\n",
    "    start_point = (left, top)\n",
    "    end_point = (right, bottom)\n",
    "    color = (0, 255, 0)\n",
    "    thickness = 2\n",
    "    lineType = cv2.LINE_AA\n",
    "    cv2.rectangle(image, start_point, end_point, color, thickness, lineType)\n",
    "\n",
    "cv2.imshow('Output', image)\n",
    "cv2.waitKey(0)\n",
    "cv2.destroyAllWindows()"
   ]
  }
 ],
 "metadata": {
  "kernelspec": {
   "display_name": "Python 3 (ipykernel)",
   "language": "python",
   "name": "python3"
  },
  "language_info": {
   "codemirror_mode": {
    "name": "ipython",
    "version": 3
   },
   "file_extension": ".py",
   "mimetype": "text/x-python",
   "name": "python",
   "nbconvert_exporter": "python",
   "pygments_lexer": "ipython3",
   "version": "3.9.16"
  }
 },
 "nbformat": 4,
 "nbformat_minor": 5
}
