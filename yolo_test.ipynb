{
 "cells": [
  {
   "cell_type": "code",
   "execution_count": 1,
   "id": "47493c40",
   "metadata": {},
   "outputs": [],
   "source": [
    "import cv2\n",
    "import numpy as np\n",
    "import matplotlib.pyplot as plt\n",
    "import matplotlib.patches as patches\n",
    "from ultralytics import YOLO"
   ]
  },
  {
   "cell_type": "code",
   "execution_count": 2,
   "id": "8d24d0f9",
   "metadata": {},
   "outputs": [],
   "source": [
    "model = YOLO('./yolo_weights/yolov8l.pt')"
   ]
  },
  {
   "cell_type": "code",
   "execution_count": 3,
   "id": "b477e3a7",
   "metadata": {},
   "outputs": [],
   "source": [
    "# Function to perform object detection\n",
    "def detection(img_path, model):\n",
    "    # Load image\n",
    "    img = cv2.imread(img_path)\n",
    "\n",
    "    # Perform object detection\n",
    "    results = model.predict(source = img)\n",
    "\n",
    "    # print(f'results = {results}')\n",
    "\n",
    "    # Extract bounding boxes\n",
    "    boxes = results[0].boxes\n",
    "    print(f'boxes length = {len(boxes)}')\n",
    "\n",
    "    bounding_boxes = []\n",
    "\n",
    "    for box in boxes:\n",
    "        left, top, right, bottom = box.xyxy[0]\n",
    "        left, top, right, bottom = int(left), int(top), int(right), int(bottom)\n",
    "        print(left, top, right, bottom)\n",
    "        print(f'box = {box}')\n",
    "\n",
    "        cls_id = int(list(box.cls)[0])\n",
    "\n",
    "        print(f'cls_id = {cls_id}')\n",
    "\n",
    "        bounding_boxes.append((left, top, right, bottom))\n",
    "\n",
    "    return bounding_boxes\n"
   ]
  },
  {
   "cell_type": "code",
   "execution_count": 4,
   "id": "ae7ed89b",
   "metadata": {},
   "outputs": [
    {
     "name": "stderr",
     "output_type": "stream",
     "text": [
      "\n",
      "0: 640x640 1 bird, 2320.8ms\n",
      "Speed: 11.0ms preprocess, 2320.8ms inference, 15.2ms postprocess per image at shape (1, 3, 640, 640)\n",
      "WARNING  'Boxes.boxes' is deprecated. Use 'Boxes.data' instead.\n"
     ]
    },
    {
     "name": "stdout",
     "output_type": "stream",
     "text": [
      "boxes length = 1\n",
      "328 294 569 639\n",
      "box = ultralytics.yolo.engine.results.Boxes object with attributes:\n",
      "\n",
      "boxes: tensor([[3.2875e+02, 2.9460e+02, 5.6926e+02, 6.3959e+02, 5.8155e-01, 1.4000e+01]])\n",
      "cls: tensor([14.])\n",
      "conf: tensor([0.5815])\n",
      "data: tensor([[3.2875e+02, 2.9460e+02, 5.6926e+02, 6.3959e+02, 5.8155e-01, 1.4000e+01]])\n",
      "id: None\n",
      "is_track: False\n",
      "orig_shape: (640, 640)\n",
      "shape: torch.Size([1, 6])\n",
      "xywh: tensor([[449.0017, 467.0967, 240.5081, 344.9897]])\n",
      "xywhn: tensor([[0.7016, 0.7298, 0.3758, 0.5390]])\n",
      "xyxy: tensor([[328.7476, 294.6018, 569.2557, 639.5916]])\n",
      "xyxyn: tensor([[0.5137, 0.4603, 0.8895, 0.9994]])\n",
      "cls_id = 14\n"
     ]
    }
   ],
   "source": [
    "# Example usage\n",
    "image_path = './archive/train/train/image_id_008.jpg'\n",
    "\n",
    "image = cv2.imread(image_path)\n",
    "\n",
    "bounding_boxes = detection(image_path, model)\n",
    "\n",
    "# Draw bounding boxes on the image\n",
    "for (left, top, right, bottom) in bounding_boxes:\n",
    "    start_point = (left, top)\n",
    "    end_point = (right, bottom)\n",
    "    color = (0, 255, 0)\n",
    "    thickness = 2\n",
    "    lineType = cv2.LINE_AA\n",
    "    cv2.rectangle(image, start_point, end_point, color, thickness, lineType)\n",
    "\n",
    "cv2.imshow('Output', image)\n",
    "cv2.waitKey(0)\n",
    "cv2.destroyAllWindows()"
   ]
  }
 ],
 "metadata": {
  "kernelspec": {
   "display_name": "Python 3 (ipykernel)",
   "language": "python",
   "name": "python3"
  },
  "language_info": {
   "codemirror_mode": {
    "name": "ipython",
    "version": 3
   },
   "file_extension": ".py",
   "mimetype": "text/x-python",
   "name": "python",
   "nbconvert_exporter": "python",
   "pygments_lexer": "ipython3",
   "version": "3.9.16"
  }
 },
 "nbformat": 4,
 "nbformat_minor": 5
}
